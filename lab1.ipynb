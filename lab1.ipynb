{
 "cells": [
  {
   "cell_type": "markdown",
   "metadata": {
    "collapsed": false
   },
   "source": [
    "# Lab 1 The Race Against Father Time"
   ]
  },
  {
   "cell_type": "markdown",
   "metadata": {
    "collapsed": true
   },
   "source": [
    "The focus of this first lab is on getting data, cleaning it, and exploring it with some visualizations and manipulations.\n",
    "\n",
    "The dataset for this lab is 14 years of results from the [Cherry Blossom 10K Road Race in Washington, DC](http://cherryblossom.org/).  This is a famous race and top runners in the world compete in it.  \n",
    "\n",
    "The goal of this lab is to scrape this website -- to obtain race results for the years 1999 to 2012 (the format changes substantially for more recent years) -- and then explore the relationship between a runner's age and their 10K performance.  \n",
    "\n",
    "**Warning** Acquiring and cleaning data is a messy process, but your approach shouldn't be.  Approach this lab with a rigorous problem solving mindset.  Design and implement a solution that is robust to unexpected inputs and handles these anomalies gracefully."
   ]
  },
  {
   "cell_type": "markdown",
   "metadata": {},
   "source": [
    "## Set up"
   ]
  },
  {
   "cell_type": "markdown",
   "metadata": {},
   "source": [
    "If you make changes to your code and rerun a python notebook, your changes may not be detected because python is lazy about reloading modules.  The following two lines will force reloads."
   ]
  },
  {
   "cell_type": "code",
   "execution_count": null,
   "metadata": {
    "collapsed": false
   },
   "outputs": [],
   "source": [
    "%load_ext autoreload\n",
    "%autoreload 2"
   ]
  },
  {
   "cell_type": "markdown",
   "metadata": {},
   "source": [
    "You may find it helpful to use some functions from the DSFS book.  You can obtain a copy of the code from the book by executing the following commands in a terminal:\n",
    "\n",
    "    vagrant@ubuntu:~$ cd /vagrant\n",
    "vagrant@ubuntu:~$ git clone https://github.com/joelgrus/data-science-from-scratch.git\n",
    "\n",
    "Then in your python code, do the following\n",
    "\n",
    "    import sys\n",
    "    sys.path.append('/vagrant/data-science-from-scratch/code/')\n",
    "    import working_with_data as wwd   # to import the code from Ch. 10, for instance\n",
    "\n",
    "To see how the python files align with book chapter, go [here](https://github.com/joelgrus/data-science-from-scratch).\n",
    "   "
   ]
  },
  {
   "cell_type": "markdown",
   "metadata": {},
   "source": [
    "## Scraping and cleaning the data"
   ]
  },
  {
   "cell_type": "markdown",
   "metadata": {},
   "source": [
    "In the file `scrape.py`, write a function called `scrape_cherry_blossoms()` that scrapes the web pages of race results for a given set of years and genders and writes the results to one file and errors to another.  The results file should be a CSV file that looks something like this:\n",
    "\n",
    "    year,gender,place,name,hometown,age,time\n",
    "    2010,m,1,Stephen Tum,Kenya,24,45.71666666666667\n",
    "    2010,m,2,Lelisa Desisa,Ethiopia,20,45.733333333333334\n",
    "    ...\n",
    "\n",
    "Notice that race time has been converted to minutes. For more details, see the docstring of `scrape_cherry_blossoms()`.\n",
    "\n",
    "Here are a few guidelines in writing this function:\n",
    "- Before you start, examine the Cherry Blossom results web pages (View Source in your web browser).  You'll notice that the format varies slightly from page to page.  Try to write the code in a general way so that the same approach can be applied to all 28 years.\n",
    "- Smart small: debug your program on one year, then two years, etc. before unleashing it on all years.\n",
    "- The web pages contain some unicode characters that may cause problems when you try to write it out to a file.  If string `s` is a unicode string, you can encode it in ASCII as follows: `s.encode('ascii', 'replace')`.\n",
    "- Not only are the pages formatted differently, the *data* varies from page to page.  Specifically, there does not seem to be a consistent notion of race finish time (gun time, time, net time).  To aggregate the data across all years, we would like to have one consistent notion of time.  Thus, you will need to make some decisions.\n",
    "- As is often the case, there is missing data.  Some runners don't have an age, some don't have a time, etc.  Handle missing data as follows: any record that is missing a value for *any* of the *required fields* should be discarded and put into the errors file.\n",
    "- Try to process as many years as you can.  Years 2001, 2006 and 2009 are tricky.  These years are optional (**challenge problem!**)"
   ]
  },
  {
   "cell_type": "markdown",
   "metadata": {},
   "source": [
    "Invoke your function here, passing in as many years as you can process:"
   ]
  },
  {
   "cell_type": "code",
   "execution_count": null,
   "metadata": {
    "collapsed": false
   },
   "outputs": [],
   "source": [
    "import scrape\n",
    "# TODO: invoke your function here"
   ]
  },
  {
   "cell_type": "markdown",
   "metadata": {},
   "source": [
    "In the space below, explain how you handled time:"
   ]
  },
  {
   "cell_type": "markdown",
   "metadata": {},
   "source": [
    "TODO: your answer here"
   ]
  },
  {
   "cell_type": "markdown",
   "metadata": {},
   "source": [
    "## Exploring the data"
   ]
  },
  {
   "cell_type": "markdown",
   "metadata": {},
   "source": [
    "In `manipulate.py`, write a function called `load_race_data(filename)` that reads a CSV file named `filename` and parses each field into the appropriate type.  The result should be a list of dicts where each dict represents one row of data (i.e., the format shown on p. 129 of DSFS).  For example, it should look like this:\n",
    "\n",
    "    [\n",
    "     {'name': 'Stephen Tum', 'gender': 'm', 'age': 24, \n",
    "      'year': 2010, 'hometown': 'Kenya', 'place': 1, 'time': 45.71666666666667}, \n",
    "     {'name': 'Lelisa Desisa', 'gender': 'm', 'age': 20, \n",
    "      'year': 2010, 'hometown': 'Ethiopia', 'place': 2, 'time': 45.733333333333334},\n",
    "     ...\n",
    "    ]"
   ]
  },
  {
   "cell_type": "markdown",
   "metadata": {},
   "source": [
    "Now we can manipulate the data to answer some basic questions.  \n",
    "\n",
    "1. What is the age range for male runners?\n",
    "2. What is the age range for female runners?\n",
    "3. Who had the fastest running time across all years/genders, how fast did they run and in what year?\n",
    "4. Who had the slowest running time across all years/genders and how fast did they run and in what year?\n",
    "\n",
    "If any of these answers seem odd, go back and double check the source data and your data cleaning process."
   ]
  },
  {
   "cell_type": "code",
   "execution_count": null,
   "metadata": {
    "collapsed": false
   },
   "outputs": [],
   "source": [
    "# TODO: compute answers to the questions here.  Your code should print \n",
    "# a well formatted response (e.g.\"1. The age range for men is __ to __.\")\n",
    "# If your code gets complex, you can always write it in manipulate.py and \n",
    "# then import and call it here."
   ]
  },
  {
   "cell_type": "markdown",
   "metadata": {},
   "source": [
    "How has the number of runners changed over the years?  Plot a histogram of the number of runners per year."
   ]
  },
  {
   "cell_type": "code",
   "execution_count": null,
   "metadata": {
    "collapsed": false
   },
   "outputs": [],
   "source": [
    "# TODO: plot a histogram of runners per year"
   ]
  },
  {
   "cell_type": "markdown",
   "metadata": {},
   "source": [
    "## How much do runners slow down with age?  A cross-sectional analysis."
   ]
  },
  {
   "cell_type": "markdown",
   "metadata": {},
   "source": [
    "Do runners slow down with age?  If so, by how much?  Let's investigate this question by making a scatter plot of age vs. running time.  Let's a single plot that has two panels, one for men and one for women.  To do this you will have to combine ideas from the scatter plot example (p. 124) with the scatter plot matrix example (p. 126) as well [as other examples of using the subplot command](http://matplotlib.org/examples/pylab_examples/subplots_demo.html).  Plot data from a single year -- I suggest you choose a year with a small number of runners.\n",
    "\n",
    "To make the plot more readable, you may need adjust the size of the points, use a \"point\" marker style rather than the default, and finally use alpha blending so we can more easily see overlapping points. See the [matplotlib documentation](http://matplotlib.org/api/pyplot_api.html#matplotlib.pyplot.scatter) for details."
   ]
  },
  {
   "cell_type": "code",
   "execution_count": null,
   "metadata": {
    "collapsed": true
   },
   "outputs": [],
   "source": [
    "# TODO: plot your scatter plot here.  you can write the code directly here or write it in\n",
    "# manipulate.py and then simply call your functions here."
   ]
  },
  {
   "cell_type": "markdown",
   "metadata": {
    "collapsed": true
   },
   "source": [
    "Here's an example of what the final plot might look like: <img src=\"scatter_plot.png\">"
   ]
  },
  {
   "cell_type": "markdown",
   "metadata": {},
   "source": [
    "## Challenge problem: longitudinal study"
   ]
  },
  {
   "cell_type": "markdown",
   "metadata": {},
   "source": [
    "If you finish the above and want to get a little more data munging experience, consider completing the following challenge problem.  Challenge problems are intended for students who are looking for, well, a little more of a challenge.  I factor challenge problems into the final course grade in a deliberately non-specific way -- for instance, I may use them to bump p a student's grade if it is borderline (A- to A).  In general, I recommend that you do the challenge for the intellectual challenge and it may also have a pleasant side effect of benefit your final grade.\n",
    "\n",
    "Now, on to the challenge problem.  The above scatter plot shows us a *cross section* of runners of varying ages from teenagers to folks in their 80s.  However, we also have race data for a 14 year span, and several runners may compete in the Cherry Blossom multiple years.  This means it's possible to do a *longitudinal analysis*, looking at the changes in individual runner's speed over time.\n",
    "\n",
    "To complete this challenge, you must do the following:\n",
    "- Develop a procedure for identifying the same person across different races.  Hint: you might look not only at the person's name but also their hometown and their birthyear (which can be determined from their age and the year of the race).\n",
    "- Identify a subset of runners who have run the Cherry Blossom multiple times over the years.\n",
    "- Analyze this set of runners in some fashion.  Get creative!  Come up with a visualization or a statistic that captures the effects of aging."
   ]
  },
  {
   "cell_type": "code",
   "execution_count": null,
   "metadata": {
    "collapsed": true
   },
   "outputs": [],
   "source": [
    "# TODO (optional): write your solution to the challenge problem here"
   ]
  }
 ],
 "metadata": {
  "kernelspec": {
   "display_name": "Python 2",
   "language": "python",
   "name": "python2"
  },
  "language_info": {
   "codemirror_mode": {
    "name": "ipython",
    "version": 2
   },
   "file_extension": ".py",
   "mimetype": "text/x-python",
   "name": "python",
   "nbconvert_exporter": "python",
   "pygments_lexer": "ipython2",
   "version": "2.7.12"
  }
 },
 "nbformat": 4,
 "nbformat_minor": 2
}
